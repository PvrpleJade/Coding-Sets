{
 "cells": [
  {
   "cell_type": "markdown",
   "metadata": {},
   "source": [
    "# Discrete Mathematics (58007)<br>\n",
    "Submitted By:<br>\n",
    "<i>Santos, Franz Nico<i><br>\n",
    "<i>201813672<i><br>\n",
    "<i>58007<i>\n",
    "\n"
   ]
  },
  {
   "cell_type": "code",
   "execution_count": 6,
   "metadata": {},
   "outputs": [],
   "source": [
    "pc_games = [\"League of Legends\", \"DOTA 2\", \"BATTLERITE\", \"PALADINS\", \"SMITE\", \"Heroes of Newerth\",\n",
    "\"Fortnite\", \"Apex Legends\", \"Fall Guys\", \"Hyper Scape\", \"Spellbreak\"]\n",
    "console_games=[\"Fortnite\", \"Apex Legends\", \"Fall Guys\", \"Hyper Scape\", \"Spellbreak\",\"Spider-man\",\"God of War\",\"GodFall\",\"Horizon: Zero Dawn\"]\n",
    "    "
   ]
  },
  {
   "cell_type": "code",
   "execution_count": 7,
   "metadata": {},
   "outputs": [],
   "source": [
    "pc = set(pc_games)\n",
    "console = set(console_games)"
   ]
  },
  {
   "cell_type": "markdown",
   "metadata": {},
   "source": [
    "## Inner Join"
   ]
  },
  {
   "cell_type": "code",
   "execution_count": 10,
   "metadata": {},
   "outputs": [
    {
     "data": {
      "text/plain": [
       "{'Apex Legends', 'Fall Guys', 'Fortnite', 'Hyper Scape', 'Spellbreak'}"
      ]
     },
     "execution_count": 10,
     "metadata": {},
     "output_type": "execute_result"
    }
   ],
   "source": [
    "common = pc.intersection(console)\n",
    "common"
   ]
  },
  {
   "cell_type": "markdown",
   "metadata": {},
   "source": [
    "## Left Join"
   ]
  },
  {
   "cell_type": "code",
   "execution_count": 11,
   "metadata": {},
   "outputs": [
    {
     "data": {
      "text/plain": [
       "{'Apex Legends',\n",
       " 'BATTLERITE',\n",
       " 'DOTA 2',\n",
       " 'Fall Guys',\n",
       " 'Fortnite',\n",
       " 'Heroes of Newerth',\n",
       " 'Hyper Scape',\n",
       " 'League of Legends',\n",
       " 'PALADINS',\n",
       " 'SMITE',\n",
       " 'Spellbreak'}"
      ]
     },
     "execution_count": 11,
     "metadata": {},
     "output_type": "execute_result"
    }
   ],
   "source": [
    "pc_ljoin = common.union(pc)\n",
    "pc_ljoin"
   ]
  },
  {
   "cell_type": "markdown",
   "metadata": {},
   "source": [
    "## Right Join"
   ]
  },
  {
   "cell_type": "code",
   "execution_count": 13,
   "metadata": {},
   "outputs": [
    {
     "data": {
      "text/plain": [
       "{'Apex Legends',\n",
       " 'Fall Guys',\n",
       " 'Fortnite',\n",
       " 'God of War',\n",
       " 'GodFall',\n",
       " 'Horizon: Zero Dawn',\n",
       " 'Hyper Scape',\n",
       " 'Spellbreak',\n",
       " 'Spider-man'}"
      ]
     },
     "execution_count": 13,
     "metadata": {},
     "output_type": "execute_result"
    }
   ],
   "source": [
    "console_rjoin = common.union(console)\n",
    "console_rjoin"
   ]
  },
  {
   "cell_type": "markdown",
   "metadata": {},
   "source": [
    "## Left Exclusive Join"
   ]
  },
  {
   "cell_type": "code",
   "execution_count": 14,
   "metadata": {},
   "outputs": [
    {
     "data": {
      "text/plain": [
       "{'BATTLERITE',\n",
       " 'DOTA 2',\n",
       " 'Heroes of Newerth',\n",
       " 'League of Legends',\n",
       " 'PALADINS',\n",
       " 'SMITE'}"
      ]
     },
     "execution_count": 14,
     "metadata": {},
     "output_type": "execute_result"
    }
   ],
   "source": [
    "pc_exljoin = pc.difference(console)\n",
    "pc_exljoin"
   ]
  },
  {
   "cell_type": "markdown",
   "metadata": {},
   "source": [
    "## Right Exclusive Join"
   ]
  },
  {
   "cell_type": "code",
   "execution_count": 15,
   "metadata": {},
   "outputs": [
    {
     "data": {
      "text/plain": [
       "{'God of War', 'GodFall', 'Horizon: Zero Dawn', 'Spider-man'}"
      ]
     },
     "execution_count": 15,
     "metadata": {},
     "output_type": "execute_result"
    }
   ],
   "source": [
    "console_exrjoin = console.difference(pc)\n",
    "console_exrjoin"
   ]
  },
  {
   "cell_type": "markdown",
   "metadata": {},
   "source": [
    "## Full Outer Join"
   ]
  },
  {
   "cell_type": "code",
   "execution_count": 16,
   "metadata": {},
   "outputs": [
    {
     "data": {
      "text/plain": [
       "{'Apex Legends',\n",
       " 'BATTLERITE',\n",
       " 'DOTA 2',\n",
       " 'Fall Guys',\n",
       " 'Fortnite',\n",
       " 'God of War',\n",
       " 'GodFall',\n",
       " 'Heroes of Newerth',\n",
       " 'Horizon: Zero Dawn',\n",
       " 'Hyper Scape',\n",
       " 'League of Legends',\n",
       " 'PALADINS',\n",
       " 'SMITE',\n",
       " 'Spellbreak',\n",
       " 'Spider-man'}"
      ]
     },
     "execution_count": 16,
     "metadata": {},
     "output_type": "execute_result"
    }
   ],
   "source": [
    "full_outer = pc.union(console)\n",
    "full_outer"
   ]
  },
  {
   "cell_type": "markdown",
   "metadata": {},
   "source": [
    "## Full Outer Exclusive Join"
   ]
  },
  {
   "cell_type": "code",
   "execution_count": 17,
   "metadata": {},
   "outputs": [
    {
     "data": {
      "text/plain": [
       "{'BATTLERITE',\n",
       " 'DOTA 2',\n",
       " 'God of War',\n",
       " 'GodFall',\n",
       " 'Heroes of Newerth',\n",
       " 'Horizon: Zero Dawn',\n",
       " 'League of Legends',\n",
       " 'PALADINS',\n",
       " 'SMITE',\n",
       " 'Spider-man'}"
      ]
     },
     "execution_count": 17,
     "metadata": {},
     "output_type": "execute_result"
    }
   ],
   "source": [
    "full_xouter = (pc.difference(console)).union(console.difference(pc))\n",
    "full_xouter"
   ]
  }
 ],
 "metadata": {
  "kernelspec": {
   "display_name": "Python 3",
   "language": "python",
   "name": "python3"
  },
  "language_info": {
   "codemirror_mode": {
    "name": "ipython",
    "version": 3
   },
   "file_extension": ".py",
   "mimetype": "text/x-python",
   "name": "python",
   "nbconvert_exporter": "python",
   "pygments_lexer": "ipython3",
   "version": "3.8.3"
  }
 },
 "nbformat": 4,
 "nbformat_minor": 4
}
